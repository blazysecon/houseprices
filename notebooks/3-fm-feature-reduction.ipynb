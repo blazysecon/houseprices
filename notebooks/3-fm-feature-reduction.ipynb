{
 "cells": [
  {
   "cell_type": "code",
   "execution_count": 3,
   "metadata": {
    "collapsed": true
   },
   "outputs": [],
   "source": [
    "# Load the \"autoreload\" extension\n",
    "%load_ext autoreload\n",
    "\n",
    "# always reload modules marked with \"%aimport\"\n",
    "%autoreload 1\n",
    "\n",
    "import os\n",
    "import sys\n",
    "\n",
    "# add the 'src' directory as one where we can import modules\n",
    "src_dir = os.path.join(os.getcwd(), os.pardir, 'src')\n",
    "sys.path.append(src_dir)\n",
    "\n",
    "# import my method from the source code\n",
    "%aimport features.build_features\n",
    "%aimport visualization.visualize\n",
    "from features.build_features import read_raw_data\n",
    "import numpy as np\n",
    "import pandas as pd"
   ]
  },
  {
   "cell_type": "markdown",
   "metadata": {},
   "source": [
    "Let's visualize the relationship between each feature (before transformation) and the target in a scatter plot. (PDF generated using src/visualization/visualize.py)"
   ]
  },
  {
   "cell_type": "code",
   "execution_count": 4,
   "metadata": {},
   "outputs": [
    {
     "data": {
      "text/html": [
       "<iframe src=../reports/figures/Features.pdf width=700 height=350></iframe>"
      ],
      "text/plain": [
       "<IPython.core.display.HTML object>"
      ]
     },
     "execution_count": 4,
     "metadata": {},
     "output_type": "execute_result"
    }
   ],
   "source": [
    "from IPython.display import HTML\n",
    "HTML('<iframe src=../reports/figures/Features.pdf width=700 height=350></iframe>')"
   ]
  },
  {
   "cell_type": "markdown",
   "metadata": {},
   "source": [
    "We see that the data clearly has some outliers. These should be removed before training the model to avoid overfitting. Furthermore as we saw earlier some features only have little variabiliy.\n",
    "By looking at the plots we see some features are clear candidates for removal:\n",
    "- Id (clearly we shouldn't make prediction based on Id)\n",
    "- MoSold (the data seems to be more or less uniformly distributed)\n",
    "- YrSold (the data seems to be more or less uniformly distributed)\n",
    "- Street (almost all records have the same value)\n",
    "- Utilities (almost all records have the same value)\n",
    "- Condition2 (almost all records have the same value)\n",
    "- LowQualFinSF (almost all records have the same value)\n",
    "- 3SsnPorch (almost all records have the same value)\n",
    "- PoolArea (almost all records have the same value)\n",
    "- PoolQC (almost all records have the same value)\n",
    "\n",
    "Let's confirm these latter observations by applying a threshold on the relative frequency of the value with the maximum frequency. "
   ]
  },
  {
   "cell_type": "code",
   "execution_count": 5,
   "metadata": {},
   "outputs": [
    {
     "name": "stdout",
     "output_type": "stream",
     "text": [
      "(33,)\n",
      "Index(['Street', 'Alley', 'LandContour', 'Utilities', 'LandSlope',\n",
      "       'Condition1', 'Condition2', 'BldgType', 'RoofMatl', 'ExterCond',\n",
      "       'BsmtCond', 'BsmtFinType2', 'BsmtFinSF2', 'Heating', 'CentralAir',\n",
      "       'Electrical', 'LowQualFinSF', 'BsmtHalfBath', 'KitchenAbvGr',\n",
      "       'Functional', 'GarageQual', 'GarageCond', 'PavedDrive', 'EnclosedPorch',\n",
      "       '3SsnPorch', 'ScreenPorch', 'PoolArea', 'PoolQC', 'Fence',\n",
      "       'MiscFeature', 'MiscVal', 'SaleType', 'SaleCondition'],\n",
      "      dtype='object')\n"
     ]
    }
   ],
   "source": [
    "df = read_raw_data(\"../data/raw/train.csv\")\n",
    "mask = []\n",
    "for col in df.columns:\n",
    "    mask.append(np.array(df[col].value_counts(True, dropna=False))[0] < 0.8)\n",
    "print(df.columns[~np.array(mask)].shape)   \n",
    "print(df.columns[~np.array(mask)]) \n"
   ]
  },
  {
   "cell_type": "markdown",
   "metadata": {},
   "source": [
    "We see that out of the original 80 features, there are 33 for which one value occurs at least 80% of the time. This is however not a sufficient argument to exclude those features, as they could still be strongly correlated with the target feature. \n",
    "\n",
    "One method to reduce the features is to select the k features most correlated with the target (univariate feature selection). Another possibility is to train a model computing weight coefficients or feature importance. Finally such models can also be used in recursive feature elimination where features are removed step by step.\n",
    "\n",
    "Let's try each of these methods to retain 10 features out of the transformed 264 and compare the retained features."
   ]
  },
  {
   "cell_type": "code",
   "execution_count": 13,
   "metadata": {
    "scrolled": true
   },
   "outputs": [
    {
     "name": "stderr",
     "output_type": "stream",
     "text": [
      "/anaconda/envs/Kaggle/lib/python3.6/site-packages/sklearn/utils/validation.py:444: DataConversionWarning: Data with input dtype int64 was converted to float64 by the scale function.\n",
      "  warnings.warn(msg, DataConversionWarning)\n"
     ]
    },
    {
     "name": "stdout",
     "output_type": "stream",
     "text": [
      "Features retained with SelectKBest - mutual_info_regression :\n",
      "Index(['OverallQual', 'YearBuilt', 'ExterQual', 'BsmtQual', '1stFlrSF',\n",
      "       'GrLivArea', 'FullBath', 'KitchenQual', 'GarageCars', 'GarageArea'],\n",
      "      dtype='object')\n"
     ]
    }
   ],
   "source": [
    "from sklearn.feature_selection import SelectKBest\n",
    "from sklearn.feature_selection import mutual_info_regression\n",
    "\n",
    "df = read_raw_data(\"../data/intermediate/eval.csv\")\n",
    "y = df['SalePrice']\n",
    "X = df.drop(['SalePrice', 'Id'], axis=1)\n",
    "\n",
    "selector = SelectKBest(mutual_info_regression, k=10)\n",
    "selector.fit_transform(X, y)\n",
    "mask_sk = selector.get_support()\n",
    "print(\"Features retained with SelectKBest - mutual_info_regression :\\n{}\".format(X.columns[mask_sk]))"
   ]
  },
  {
   "cell_type": "code",
   "execution_count": 25,
   "metadata": {},
   "outputs": [
    {
     "name": "stdout",
     "output_type": "stream",
     "text": [
      "Features retained with Lasso Regression :\n",
      "Index(['LotFrontage', 'LotArea', 'OverallQual', 'OverallCond', 'YearBuilt',\n",
      "       'YearRemodAdd', 'MasVnrArea', 'ExterQual', 'ExterCond', 'BsmtQual',\n",
      "       ...\n",
      "       'SaleType_ConLI', 'SaleType_ConLw', 'SaleType_New', 'SaleType_Oth',\n",
      "       'SaleCondition_Abnorml', 'SaleCondition_AdjLand',\n",
      "       'SaleCondition_Alloca', 'SaleCondition_Family', 'SaleCondition_Normal',\n",
      "       'BsmtFinSF'],\n",
      "      dtype='object', length=236)\n",
      "\n",
      "Features removed with Lasso Regression :\n",
      "Index(['1stFlrSF', 'MSSubClass_20', 'MSZoning_RL', 'Street_Pave',\n",
      "       'LotShape_Reg', 'LandContour_Lvl', 'Utilities_NoSeWa',\n",
      "       'LotConfig_Inside', 'LandSlope_Gtl', 'Neighborhood_Timber',\n",
      "       'Condition1_PosN', 'Condition2_RRAn', 'BldgType_TwnhsE',\n",
      "       'HouseStyle_SFoyer', 'RoofStyle_Gambrel', 'RoofMatl_CompShg',\n",
      "       'Exterior1st_HdBoard', 'Exterior2nd_Plywood', 'Foundation_PConc',\n",
      "       'Heating_Grav', 'CentralAir_Y', 'Functional_Min1', 'GarageType_Attchd',\n",
      "       'GarageFinish_RFn', 'PavedDrive_N', 'SaleType_WD',\n",
      "       'SaleCondition_Partial'],\n",
      "      dtype='object')\n"
     ]
    }
   ],
   "source": [
    "from sklearn.feature_selection import SelectFromModel\n",
    "from sklearn.preprocessing import StandardScaler\n",
    "from sklearn.linear_model import Lasso\n",
    "\n",
    "# need to scale data to apply Lasso model\n",
    "scaler = StandardScaler()\n",
    "X_scaled = scaler.fit_transform(X)\n",
    "lasso = Lasso(max_iter=50000).fit(X_scaled, y)\n",
    "selectm = SelectFromModel(lasso)\n",
    "selectm.fit_transform(X_scaled, y)\n",
    "mask_sm = selectm.get_support()\n",
    "print(\"Features retained with Lasso Regression :\\n{}\\n\".format(X.columns[mask_sm]))\n",
    "print(\"Features removed with Lasso Regression :\\n{}\".format(X.columns[~mask_sm]))"
   ]
  },
  {
   "cell_type": "markdown",
   "metadata": {},
   "source": [
    "Interesting enough, the lasso model only reduces the number of features down to 239.\n",
    "Let's see what happens when we use an ensemble method."
   ]
  },
  {
   "cell_type": "code",
   "execution_count": 11,
   "metadata": {},
   "outputs": [
    {
     "name": "stdout",
     "output_type": "stream",
     "text": [
      "Features retained with Gradient Boosting Regression :\n",
      "Index(['LotFrontage', 'LotArea', 'OverallQual', 'OverallCond', 'YearBuilt',\n",
      "       'YearRemodAdd', 'MasVnrArea', 'ExterQual', 'BsmtQual', 'BsmtCond',\n",
      "       'BsmtExposure', 'BsmtUnfSF', '1stFlrSF', '2ndFlrSF', 'LowQualFinSF',\n",
      "       'GrLivArea', 'BsmtFullBath', 'FullBath', 'HalfBath', 'KitchenQual',\n",
      "       'Fireplaces', 'FireplaceQu', 'GarageYrBlt', 'GarageCars', 'GarageArea',\n",
      "       'WoodDeckSF', 'OpenPorchSF', 'ScreenPorch', 'PoolArea', 'MoSold',\n",
      "       'MSZoning_C (all)', 'LotConfig_CulDSac', 'Neighborhood_ClearCr',\n",
      "       'Neighborhood_Crawfor', 'Neighborhood_NoRidge', 'Neighborhood_StoneBr',\n",
      "       'Condition1_Artery', 'Condition1_Norm', 'Exterior1st_BrkFace',\n",
      "       'Exterior2nd_MetalSd', 'BsmtFinType1_GLQ', 'Functional_Typ',\n",
      "       'GarageType_Attchd', 'SaleType_New', 'SaleCondition_Abnorml',\n",
      "       'SaleCondition_Family', 'BsmtFinSF'],\n",
      "      dtype='object')\n",
      "\n",
      "Features removed with Gradient Boosting Regression :\n",
      "Index(['ExterCond', 'HeatingQC', 'BsmtHalfBath', 'BedroomAbvGr',\n",
      "       'KitchenAbvGr', 'TotRmsAbvGrd', 'GarageQual', 'GarageCond',\n",
      "       'EnclosedPorch', '3SsnPorch',\n",
      "       ...\n",
      "       'SaleType_Con', 'SaleType_ConLD', 'SaleType_ConLI', 'SaleType_ConLw',\n",
      "       'SaleType_Oth', 'SaleType_WD', 'SaleCondition_AdjLand',\n",
      "       'SaleCondition_Alloca', 'SaleCondition_Normal',\n",
      "       'SaleCondition_Partial'],\n",
      "      dtype='object', length=216)\n"
     ]
    }
   ],
   "source": [
    "from sklearn.ensemble import GradientBoostingRegressor\n",
    "\n",
    "sgbr = GradientBoostingRegressor()\n",
    "sgbr.fit(X, y)\n",
    "selectmgb = SelectFromModel(sgbr)\n",
    "selectmgb.fit_transform(X, y)\n",
    "mask_smgb = selectmgb.get_support()\n",
    "print(\"Features retained with Gradient Boosting Regression :\\n{}\\n\".format(X.columns[mask_smgb]))\n",
    "print(\"Features removed with Gradient Boosting Regression :\\n{}\".format(X.columns[~mask_smgb]))"
   ]
  },
  {
   "cell_type": "markdown",
   "metadata": {},
   "source": [
    "The gradient boosting regression reduces the number of features to 47.\n",
    "Let's see what happens when using recursive feature elimination (RFE) to reduce the number of features to 10."
   ]
  },
  {
   "cell_type": "code",
   "execution_count": 18,
   "metadata": {},
   "outputs": [
    {
     "name": "stdout",
     "output_type": "stream",
     "text": [
      "Features retained with Recursive Feature Elimination - Gradient boosting regressor :\n",
      "Index(['LotArea', 'OverallQual', 'OverallCond', 'YearBuilt', 'BsmtUnfSF',\n",
      "       '1stFlrSF', '2ndFlrSF', 'GrLivArea', 'GarageArea', 'BsmtFinSF'],\n",
      "      dtype='object')\n"
     ]
    }
   ],
   "source": [
    "from sklearn.feature_selection import RFE\n",
    "\n",
    "rfegbr = GradientBoostingRegressor()\n",
    "rfe = RFE(estimator=rfegbr, n_features_to_select=10, step=1)\n",
    "rfe.fit(X, y)\n",
    "mask_rfe = rfe.get_support()\n",
    "print(\"Features retained with Recursive Feature Elimination - Gradient boosting regressor :\\n{}\".format(X.columns[mask_rfe]))"
   ]
  },
  {
   "cell_type": "markdown",
   "metadata": {},
   "source": [
    "The features retained with SelectK and RFE partially overlap. The lasso regression does not allow to eliminate a high number of features, whereas basing the feature selection on a gradient boosting regressor allows to limit the number of used features to 47.\n",
    "\n",
    "As sometimes both GarageCars and GarageArea are selected, one can wonder whether they are redundant features."
   ]
  },
  {
   "cell_type": "code",
   "execution_count": 15,
   "metadata": {},
   "outputs": [
    {
     "data": {
      "image/png": "[encoded data removed]",
      "text/plain": [
       "<matplotlib.figure.Figure at 0x117565b70>"
      ]
     },
     "metadata": {},
     "output_type": "display_data"
    }
   ],
   "source": [
    "from matplotlib import pyplot as plt\n",
    "plt.scatter(X['GarageArea'], X['GarageCars'])\n",
    "plt.show()"
   ]
  },
  {
   "cell_type": "markdown",
   "metadata": {},
   "source": [
    "Visibly those features cannot be considered redundant."
   ]
  },
  {
   "cell_type": "markdown",
   "metadata": {},
   "source": [
    "We arbitrarily fixed the number of features to retain with the RFE to 10. A more rigurous approach would be to select the number of features producing best results in a cross-validation."
   ]
  },
  {
   "cell_type": "code",
   "execution_count": 19,
   "metadata": {},
   "outputs": [
    {
     "name": "stdout",
     "output_type": "stream",
     "text": [
      "Features retained with Recursive Feature Elimination CV - Gradient boosting regressor :\n",
      "Index(['LotFrontage', 'LotArea', 'OverallQual', 'OverallCond', 'YearBuilt',\n",
      "       'YearRemodAdd', 'MasVnrArea', 'ExterQual', 'BsmtQual', 'BsmtCond',\n",
      "       'BsmtExposure', 'BsmtUnfSF', '1stFlrSF', '2ndFlrSF', 'GrLivArea',\n",
      "       'BsmtFullBath', 'KitchenAbvGr', 'KitchenQual', 'FireplaceQu',\n",
      "       'GarageYrBlt', 'GarageCars', 'GarageArea', 'WoodDeckSF', 'OpenPorchSF',\n",
      "       'ScreenPorch', 'PoolArea', 'MoSold', 'MSSubClass_60',\n",
      "       'MSZoning_C (all)', 'LotConfig_CulDSac', 'Neighborhood_ClearCr',\n",
      "       'Neighborhood_Crawfor', 'Neighborhood_OldTown', 'Neighborhood_StoneBr',\n",
      "       'Condition1_Artery', 'Condition1_Norm', 'Exterior1st_BrkFace',\n",
      "       'BsmtFinType1_GLQ', 'Functional_Typ', 'GarageType_Attchd',\n",
      "       'SaleType_New', 'SaleCondition_Abnorml', 'SaleCondition_Family',\n",
      "       'BsmtFinSF'],\n",
      "      dtype='object')\n"
     ]
    }
   ],
   "source": [
    "from sklearn.feature_selection import RFECV\n",
    "\n",
    "rfecvgbr = GradientBoostingRegressor()\n",
    "rfecv = RFECV(estimator=rfecvgbr, step=1)\n",
    "X_new = rfecv.fit_transform(X, y)\n",
    "mask_rfecv = rfecv.get_support()\n",
    "print(\"Features retained with Recursive Feature Elimination CV - Gradient boosting regressor :\\n{}\".format(X.columns[mask_rfecv]))\n",
    "        "
   ]
  },
  {
   "cell_type": "markdown",
   "metadata": {},
   "source": [
    "The RFE with cross-validation picks 44 features."
   ]
  }
 ],
 "metadata": {
  "kernelspec": {
   "display_name": "Python 3",
   "language": "python",
   "name": "python3"
  },
  "language_info": {
   "codemirror_mode": {
    "name": "ipython",
    "version": 3
   },
   "file_extension": ".py",
   "mimetype": "text/x-python",
   "name": "python",
   "nbconvert_exporter": "python",
   "pygments_lexer": "ipython3",
   "version": "3.6.2"
  }
 },
 "nbformat": 4,
 "nbformat_minor": 2
}
